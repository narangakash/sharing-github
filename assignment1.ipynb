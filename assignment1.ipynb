{
 "cells": [
  {
   "cell_type": "code",
   "execution_count": 1,
   "id": "c9e1c5ce-fe69-4901-babe-eca33e341f9b",
   "metadata": {},
   "outputs": [],
   "source": [
    "#A1\n",
    "a = \"akash\"\n",
    "b = [1,2,3,4,5,\"qwerty\"]\n",
    "c = 4.56\n",
    "d = (1,2,3,4,5)"
   ]
  },
  {
   "cell_type": "code",
   "execution_count": 2,
   "id": "77832965-bfc3-4ecb-ad94-fa37729794c7",
   "metadata": {},
   "outputs": [
    {
     "name": "stdout",
     "output_type": "stream",
     "text": [
      "<class 'str'>\n",
      "<class 'str'>\n",
      "<class 'list'>\n",
      "<class 'float'>\n"
     ]
    }
   ],
   "source": [
    "#A2\n",
    "var1 = \"\"\n",
    "var2 = \"[ DS , ML , Python]\"\n",
    "var3 = [ 'DS' , 'ML' , 'Python' ]\n",
    "var4 = 1.\n",
    "\n",
    "l = [var1, var2, var3, var4]\n",
    "\n",
    "for i in l:\n",
    "    print(type(i))"
   ]
  },
  {
   "cell_type": "code",
   "execution_count": 3,
   "id": "0d56af4c-8b53-408f-ba1f-3e02cec7263e",
   "metadata": {},
   "outputs": [
    {
     "ename": "SyntaxError",
     "evalue": "invalid syntax (455987350.py, line 5)",
     "output_type": "error",
     "traceback": [
      "\u001b[0;36m  Cell \u001b[0;32mIn[3], line 5\u001b[0;36m\u001b[0m\n\u001b[0;31m    (i) /  - division operator\u001b[0m\n\u001b[0m                      ^\u001b[0m\n\u001b[0;31mSyntaxError\u001b[0m\u001b[0;31m:\u001b[0m invalid syntax\n"
     ]
    }
   ],
   "source": [
    "#A3\n",
    "a = 5\n",
    "b = 25\n",
    "b**a\n",
    "(i) /  - division operator\n",
    "(ii) % - modulus operator\n",
    "(iii) // - floor division\n",
    "(iv) ** - exponential operator"
   ]
  },
  {
   "cell_type": "code",
   "execution_count": 4,
   "id": "927f0842-1c78-42f9-ade4-74798b12d585",
   "metadata": {},
   "outputs": [
    {
     "name": "stdout",
     "output_type": "stream",
     "text": [
      "1\n",
      "<class 'int'>\n",
      "2\n",
      "<class 'int'>\n",
      "akash\n",
      "<class 'str'>\n",
      "3.4\n",
      "<class 'float'>\n",
      "[1, 2, 3]\n",
      "<class 'list'>\n",
      "('q', 'w', 'r')\n",
      "<class 'tuple'>\n",
      "op\n",
      "<class 'str'>\n",
      "6.7\n",
      "<class 'float'>\n",
      "2\n",
      "<class 'int'>\n"
     ]
    }
   ],
   "source": [
    "li = [1,2,\"akash\",3.4, [1,2,3], (\"q\",\"w\",\"r\"), 'op', 6.7,2]\n",
    "\n",
    "for i in li:\n",
    "    print (i)\n",
    "    print(type(i))"
   ]
  },
  {
   "cell_type": "code",
   "execution_count": 1,
   "id": "28a7c1b4-4a6d-4b59-bcd2-d838bbd06820",
   "metadata": {},
   "outputs": [
    {
     "name": "stdin",
     "output_type": "stream",
     "text": [
      "please enter value for a 23\n",
      "please enter value for b 2\n"
     ]
    },
    {
     "name": "stdout",
     "output_type": "stream",
     "text": [
      "23 is not diviisble by 2\n"
     ]
    }
   ],
   "source": [
    "a = int(input(\"please enter value for a\"))\n",
    "b = int(input(\"please enter value for b\"))\n",
    "i = 0\n",
    "c = a\n",
    "if a%b==0 and b!=1:\n",
    "    \n",
    "    while c%b==0:\n",
    "        c= c//b\n",
    "        i = i+1\n",
    "    print (a,\"is deviisble by\", b, i,\"times\")\n",
    "    \n",
    "elif b==1:\n",
    "    print(\"every number is divisble by 1\")\n",
    "    \n",
    "else:\n",
    "    print(a,\"is not divisible by\", b)\n",
    "    "
   ]
  },
  {
   "cell_type": "code",
   "execution_count": 8,
   "id": "a1f8df17-900a-46ad-99aa-374c525277c6",
   "metadata": {},
   "outputs": [
    {
     "name": "stdout",
     "output_type": "stream",
     "text": [
      "1 is not divisible by 3\n",
      "2 is not divisible by 3\n",
      "3 is divisible by 3\n",
      "4 is not divisible by 3\n",
      "5 is not divisible by 3\n",
      "6 is divisible by 3\n",
      "7 is not divisible by 3\n",
      "8 is not divisible by 3\n",
      "9 is divisible by 3\n",
      "10 is not divisible by 3\n",
      "11 is not divisible by 3\n",
      "12 is divisible by 3\n",
      "13 is not divisible by 3\n",
      "14 is not divisible by 3\n",
      "15 is divisible by 3\n",
      "16 is not divisible by 3\n",
      "17 is not divisible by 3\n",
      "18 is divisible by 3\n",
      "19 is not divisible by 3\n",
      "20 is not divisible by 3\n",
      "21 is divisible by 3\n",
      "22 is not divisible by 3\n",
      "23 is not divisible by 3\n",
      "24 is divisible by 3\n"
     ]
    }
   ],
   "source": [
    "a = list(range(1,25))\n",
    "\n",
    "for i in a:\n",
    "    if i%3==0:\n",
    "        print(i,\"is divisible by 3\")\n",
    "    else:\n",
    "        print(i,\"is not divisible by 3\")"
   ]
  },
  {
   "cell_type": "code",
   "execution_count": null,
   "id": "88dcfecc-9dee-4090-96a7-4a8bcad7b0f3",
   "metadata": {},
   "outputs": [],
   "source": []
  },
  {
   "cell_type": "code",
   "execution_count": null,
   "id": "34c6e8b0-321d-4cf9-97b8-fdc196bdc2e8",
   "metadata": {},
   "outputs": [],
   "source": []
  },
  {
   "cell_type": "code",
   "execution_count": null,
   "id": "9201ecfd-b799-4d13-b2bb-8230e55ac53b",
   "metadata": {},
   "outputs": [],
   "source": []
  },
  {
   "cell_type": "code",
   "execution_count": null,
   "id": "162bb374-ca7d-4a84-8a16-ab3eccbfeb10",
   "metadata": {},
   "outputs": [],
   "source": []
  }
 ],
 "metadata": {
  "kernelspec": {
   "display_name": "Python 3 (ipykernel)",
   "language": "python",
   "name": "python3"
  },
  "language_info": {
   "codemirror_mode": {
    "name": "ipython",
    "version": 3
   },
   "file_extension": ".py",
   "mimetype": "text/x-python",
   "name": "python",
   "nbconvert_exporter": "python",
   "pygments_lexer": "ipython3",
   "version": "3.10.8"
  }
 },
 "nbformat": 4,
 "nbformat_minor": 5
}
